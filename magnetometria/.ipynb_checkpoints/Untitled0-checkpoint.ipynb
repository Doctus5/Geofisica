{
 "metadata": {
  "name": "",
  "signature": "sha256:2a0f9569d9f1fcc9405b1fb02620ff51760e9df355ca83ac99d114557d9b33ce"
 },
 "nbformat": 3,
 "nbformat_minor": 0,
 "worksheets": []
}